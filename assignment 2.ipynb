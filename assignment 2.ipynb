{
 "cells": [
  {
   "cell_type": "markdown",
   "id": "e9c469ac",
   "metadata": {},
   "source": [
    "Question 1 Use a python code to display the following star pattern using the for loop"
   ]
  },
  {
   "cell_type": "code",
   "execution_count": 29,
   "id": "60749d95",
   "metadata": {},
   "outputs": [
    {
     "name": "stdout",
     "output_type": "stream",
     "text": [
      "* \r\n",
      "* * \r\n",
      "* * * \r\n",
      "* * * * \r\n",
      "* * * * * \r\n",
      "* * * * \r\n",
      "* * * \r\n",
      "* * \r\n",
      "* \r\n",
      "\r\n"
     ]
    }
   ],
   "source": [
    "rows = 5\n",
    "#using nested for loop for top 5 rows of star pattern\n",
    "for i in range(0, rows):\n",
    "    for j in range(0, i + 1):\n",
    "        print(\"*\", end=' ')\n",
    "    print(\"\\r\")\n",
    "##using nested for loop for bottoms 5rows of star pattern\n",
    "for i in range(rows, 0, -1):\n",
    "    for j in range(0, i - 1):\n",
    "        print(\"*\", end=' ')\n",
    "    print(\"\\r\")     \n"
   ]
  },
  {
   "cell_type": "markdown",
   "id": "0061497c",
   "metadata": {},
   "source": [
    "Q2) use looping to output the elements from a provided list present at odd indexes. my_list = [10, 20, 30, 40, 50, 60, 70, 80, 90, 100]"
   ]
  },
  {
   "cell_type": "code",
   "execution_count": 30,
   "id": "a100ec5c",
   "metadata": {},
   "outputs": [
    {
     "name": "stdout",
     "output_type": "stream",
     "text": [
      "20 40 60 80 100 "
     ]
    }
   ],
   "source": [
    "#Use looping to output the elements from a provided list present at odd indexes.\n",
    "\n",
    "my_list = [10, 20, 30, 40, 50, 60, 70, 80, 90, 100]\n",
    "my_list = [10, 20, 30, 40, 50, 60, 70, 80, 90, 100]\n",
    "# stat from index 1 with step 2( means 1, 3, 5, an so on)\n",
    "for i in my_list[1::2]:\n",
    "    print(i, end=\" \")"
   ]
  },
  {
   "cell_type": "markdown",
   "id": "89351fe4",
   "metadata": {},
   "source": [
    "Q3)Write a code that appends the type of elements from a given list. Input x = [23, ‘Python’, 23.98] Expected output [23, 'Python', 23.98] [, ,"
   ]
  },
  {
   "cell_type": "code",
   "execution_count": 31,
   "id": "5b95fa37",
   "metadata": {},
   "outputs": [
    {
     "name": "stdout",
     "output_type": "stream",
     "text": [
      "[<class 'int'>, <class 'str'>, <class 'float'>]\n",
      "[23, 'Python', 23.98]\n"
     ]
    }
   ],
   "source": [
    "# Append a list with types of elements\n",
    "x = [23,'Python', 23.98]\n",
    "n = []\n",
    "for i in range(len(x)):\n",
    "    #using type function to get types of elements and printing them\n",
    "    n.append(type(x[i]))\n",
    "print(n)\n",
    "print(x)"
   ]
  },
  {
   "cell_type": "markdown",
   "id": "3bc0345c",
   "metadata": {},
   "source": [
    "Q4) Write a function that takes a list and returns a new list with unique items of the first list. Sample List: [1,2,3,3,3,3,4,5] Unique List: [1, 2, 3, 4, 5]"
   ]
  },
  {
   "cell_type": "code",
   "execution_count": 32,
   "id": "c87de65f",
   "metadata": {},
   "outputs": [
    {
     "name": "stdout",
     "output_type": "stream",
     "text": [
      "[1, 2, 3, 4, 5]\n"
     ]
    }
   ],
   "source": [
    "#Write a function that takes a list and returns a new list with unique items of the first list.\n",
    "#Sample List: [1,2,3,3,3,3,4,5]\n",
    "def unique_list(l):\n",
    "  x = []\n",
    "#using for loop\n",
    "  for a in l:\n",
    "    if a not in x:\n",
    "      x.append(a)\n",
    "  return x\n",
    "print(unique_list([1,2,3,3,3,3,4,5]))"
   ]
  },
  {
   "cell_type": "markdown",
   "id": "ae74a798",
   "metadata": {},
   "source": [
    "Q5) Write a function that accepts a string and calculate the number of upper-case letters and lower-case letters. Input String: 'The quick Brown Fox' Expected Output: No. of Upper-case characters: 3 No. of Lower-case Characters: 13"
   ]
  },
  {
   "cell_type": "code",
   "execution_count": 36,
   "id": "71142ce2",
   "metadata": {},
   "outputs": [
    {
     "name": "stdout",
     "output_type": "stream",
     "text": [
      "Original String :  The quick Brown Fox\n",
      "No. of Upper case characters :  3\n",
      "No. of Lower case Characters :  13\n"
     ]
    }
   ],
   "source": [
    "def string_test(s):\n",
    "    d={\"UPPER_CASE\":0, \"LOWER_CASE\":0}\n",
    "    for c in s:\n",
    "        if c.isupper():\n",
    "           d[\"UPPER_CASE\"]+=1\n",
    "        elif c.islower():\n",
    "           d[\"LOWER_CASE\"]+=1\n",
    "        else:\n",
    "           pass\n",
    "    print (\"Original String : \", s)\n",
    "    print (\"No. of Upper case characters : \", d[\"UPPER_CASE\"])\n",
    "    print (\"No. of Lower case Characters : \", d[\"LOWER_CASE\"])\n",
    "\n",
    "string_test('The quick Brown Fox')\n"
   ]
  },
  {
   "cell_type": "code",
   "execution_count": null,
   "id": "776d41fc",
   "metadata": {},
   "outputs": [],
   "source": []
  }
 ],
 "metadata": {
  "kernelspec": {
   "display_name": "Python 3 (ipykernel)",
   "language": "python",
   "name": "python3"
  },
  "language_info": {
   "codemirror_mode": {
    "name": "ipython",
    "version": 3
   },
   "file_extension": ".py",
   "mimetype": "text/x-python",
   "name": "python",
   "nbconvert_exporter": "python",
   "pygments_lexer": "ipython3",
   "version": "3.9.13"
  }
 },
 "nbformat": 4,
 "nbformat_minor": 5
}
